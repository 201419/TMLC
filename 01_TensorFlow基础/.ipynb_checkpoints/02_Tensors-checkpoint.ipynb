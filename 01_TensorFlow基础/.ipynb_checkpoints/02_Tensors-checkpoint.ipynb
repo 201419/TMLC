{
 "cells": [
  {
   "cell_type": "markdown",
   "metadata": {},
   "source": [
    "# 张量（Tensors）"
   ]
  },
  {
   "cell_type": "markdown",
   "metadata": {},
   "source": [
    "这里将介绍在TensorFlow中创建张量的一些方法。"
   ]
  },
  {
   "cell_type": "code",
   "execution_count": 1,
   "metadata": {
    "collapsed": true
   },
   "outputs": [],
   "source": [
    "import tensorflow as tf\n",
    "\n",
    "sess = tf.Session()"
   ]
  },
  {
   "cell_type": "markdown",
   "metadata": {},
   "source": [
    "### 1. 固定张量"
   ]
  },
  {
   "cell_type": "code",
   "execution_count": 2,
   "metadata": {},
   "outputs": [
    {
     "name": "stdout",
     "output_type": "stream",
     "text": [
      "Tensor(\"zeros:0\", shape=(3, 5), dtype=float32)\n",
      "[[ 0.  0.  0.  0.  0.]\n",
      " [ 0.  0.  0.  0.  0.]\n",
      " [ 0.  0.  0.  0.  0.]]\n"
     ]
    }
   ],
   "source": [
    "# 创建指定维度的零张量，tf.zeros([row_dim, col_dim])\n",
    "zero_tsr = tf.zeros([3,5])\n",
    "print(zero_tsr)\n",
    "print(sess.run(zero_tsr))"
   ]
  },
  {
   "cell_type": "code",
   "execution_count": 3,
   "metadata": {
    "scrolled": true
   },
   "outputs": [
    {
     "name": "stdout",
     "output_type": "stream",
     "text": [
      "Tensor(\"ones:0\", shape=(3, 5), dtype=float32)\n",
      "[[ 1.  1.  1.  1.  1.]\n",
      " [ 1.  1.  1.  1.  1.]\n",
      " [ 1.  1.  1.  1.  1.]]\n"
     ]
    }
   ],
   "source": [
    "# 创建指定维度的单位张量，tf.ones([row_dim, col_dim])\n",
    "ones_tsr = tf.ones([3,5])\n",
    "print(ones_tsr)\n",
    "print(sess.run(ones_tsr))"
   ]
  },
  {
   "cell_type": "code",
   "execution_count": 4,
   "metadata": {},
   "outputs": [
    {
     "name": "stdout",
     "output_type": "stream",
     "text": [
      "Tensor(\"Fill:0\", shape=(3, 5), dtype=int32)\n",
      "[[42 42 42 42 42]\n",
      " [42 42 42 42 42]\n",
      " [42 42 42 42 42]]\n"
     ]
    }
   ],
   "source": [
    "# 创建指定维度的常数填充的张量，tf.fill([row_dim, col_dim], constant)\n",
    "filled_tsr = tf.fill([3,5], 42)\n",
    "print(filled_tsr)\n",
    "print(sess.run(filled_tsr))"
   ]
  },
  {
   "cell_type": "code",
   "execution_count": 5,
   "metadata": {},
   "outputs": [
    {
     "name": "stdout",
     "output_type": "stream",
     "text": [
      "Tensor(\"Const:0\", shape=(3,), dtype=int32)\n",
      "[1 2 3]\n"
     ]
    }
   ],
   "source": [
    "# 用已知常数张量创建一个张量，tf.constant([constant, ... , constant])\n",
    "constant_tsr = tf.constant([1, 2, 3])\n",
    "print(constant_tsr)\n",
    "print(sess.run(constant_tsr))"
   ]
  },
  {
   "cell_type": "markdown",
   "metadata": {},
   "source": [
    "### 2. 相似形状的张量"
   ]
  },
  {
   "cell_type": "code",
   "execution_count": 6,
   "metadata": {},
   "outputs": [
    {
     "name": "stdout",
     "output_type": "stream",
     "text": [
      "Tensor(\"zeros_like:0\", shape=(3,), dtype=int32)\n",
      "[0 0 0]\n"
     ]
    }
   ],
   "source": [
    "zeros_similar = tf.zeros_like(constant_tsr)\n",
    "print(zeros_similar)\n",
    "print(sess.run(zeros_similar))"
   ]
  },
  {
   "cell_type": "code",
   "execution_count": 7,
   "metadata": {},
   "outputs": [
    {
     "name": "stdout",
     "output_type": "stream",
     "text": [
      "Tensor(\"ones_like:0\", shape=(3,), dtype=int32)\n",
      "[1 1 1]\n"
     ]
    }
   ],
   "source": [
    "ones_similar = tf.ones_like(constant_tsr)\n",
    "print(ones_similar)\n",
    "print(sess.run(ones_similar))"
   ]
  },
  {
   "cell_type": "markdown",
   "metadata": {},
   "source": [
    "### 3. 序列张量"
   ]
  },
  {
   "cell_type": "code",
   "execution_count": 8,
   "metadata": {},
   "outputs": [
    {
     "name": "stdout",
     "output_type": "stream",
     "text": [
      "Tensor(\"LinSpace:0\", shape=(3,), dtype=float32)\n",
      "[ 0.   0.5  1. ]\n",
      "-----------------------------\n",
      "<tf.Variable 'Variable:0' shape=(3,) dtype=float32_ref>\n",
      "[  6.           9.23999977  12.47999954]\n"
     ]
    }
   ],
   "source": [
    "# Linspace in TensorFlow\n",
    "linear_tsr = tf.linspace(start=0.0, stop=1.0, num=3) # 生成 [0.0, 0.5, 1.0] ，包含stop\n",
    "print(linear_tsr)\n",
    "print(sess.run(linear_tsr))\n",
    "\n",
    "print('-----------------------------')\n",
    "\n",
    "# Range in TensorFlow\n",
    "sequence_var = tf.Variable(tf.range(start=6.0, limit=15.0, delta=3.24)) # 生成 [6, 9, 12] ，不包含limit\n",
    "sess.run(sequence_var.initializer)\n",
    "print(sequence_var)\n",
    "print(sess.run(sequence_var))\n",
    "\n",
    "# sequence_var在这里是一个变量， 使用tf.Variable来将张量封装成一个变量\n",
    "# 声明变量之后需要初始化才能使用\n",
    "# 也可以使用下边的方式来声明\n",
    "# initialize_op = tf.global_variables_initializer()\n",
    "# sess.run(initialize_op)"
   ]
  },
  {
   "cell_type": "markdown",
   "metadata": {},
   "source": [
    "### 4. 随机张量"
   ]
  },
  {
   "cell_type": "code",
   "execution_count": 9,
   "metadata": {},
   "outputs": [
    {
     "name": "stdout",
     "output_type": "stream",
     "text": [
      "Tensor(\"random_normal:0\", shape=(3, 5), dtype=float32)\n",
      "[[-0.86454052  1.23064399  0.05709749 -0.72316289  0.4132866 ]\n",
      " [-0.64207602 -0.19469371 -1.41570807 -0.1522173   1.87495553]\n",
      " [-0.18220858 -0.31754962  2.0585742   0.16717964 -0.73659074]]\n",
      "-----------------------------\n",
      "Tensor(\"random_uniform:0\", shape=(3, 5), dtype=float32)\n",
      "[[ 1.49200773  2.03896284  2.42357492  1.87910223  1.22865963]\n",
      " [ 2.64422226  1.09032917  2.64924955  3.71247578  1.9002037 ]\n",
      " [ 0.69299936  1.92370462  2.08023119  1.2543478   0.34999943]]\n"
     ]
    }
   ],
   "source": [
    "#  tf.random_normal生成正态分布的随机数\n",
    "rnorm_tsr = tf.random_normal([3, 5], mean=0.0, stddev=1.0)\n",
    "print(rnorm_tsr)\n",
    "print(sess.run(rnorm_tsr))\n",
    "\n",
    "print('-----------------------------')\n",
    "\n",
    "#  tf.random_uniform生成均匀分布的随机数，从minval（包含minval）到maxval（不包含maxval）\n",
    "runif_tsr = tf.random_uniform([3, 5], minval=0, maxval=4)\n",
    "print(runif_tsr)\n",
    "print(sess.run(runif_tsr))"
   ]
  },
  {
   "cell_type": "code",
   "execution_count": 10,
   "metadata": {},
   "outputs": [
    {
     "name": "stdout",
     "output_type": "stream",
     "text": [
      "Tensor(\"truncated_normal:0\", shape=(3, 5), dtype=float32)\n",
      "[[ 0.00932001 -0.67266726  0.52413809 -0.3351168   0.07488699]\n",
      " [-0.99693578  0.39037108  1.1598649  -0.71664447  0.50077069]\n",
      " [-0.18426307  1.29702401 -1.13656819  1.47332966  1.36240053]]\n"
     ]
    }
   ],
   "source": [
    "#  tf.truncated_normal生成带有指定边界的正态分布的随机数\n",
    "# 其正态分布的随机数位于指定均值（期望）到两个标准差之间的区间\n",
    "rTruncNorm_tsr = tf.truncated_normal([3, 5], mean=0.0, stddev=1.0)\n",
    "print(rTruncNorm_tsr)\n",
    "print(sess.run(rTruncNorm_tsr))"
   ]
  },
  {
   "cell_type": "code",
   "execution_count": 11,
   "metadata": {},
   "outputs": [
    {
     "name": "stdout",
     "output_type": "stream",
     "text": [
      "Tensor(\"RandomShuffle:0\", shape=(2, 5), dtype=int32)\n",
      "[[ 1  2  3  4  5]\n",
      " [ 6  7  8  9 10]]\n",
      "-----------------------------\n",
      "Tensor(\"random_crop:0\", shape=(1, 3), dtype=int32)\n",
      "[[2 3 4]]\n"
     ]
    }
   ],
   "source": [
    "# 张量/数组的随机化\n",
    "input_tensor = tf.constant([[1, 2, 3, 4, 5], [6, 7, 8, 9, 10]])\n",
    "\n",
    "shuffled_output = tf.random_shuffle(input_tensor)\n",
    "print(shuffled_output)\n",
    "print(sess.run(shuffled_output))\n",
    "\n",
    "print('-----------------------------')\n",
    "\n",
    "cropped_output = tf.random_crop(input_tensor, [1, 3])\n",
    "print(cropped_output)\n",
    "print(sess.run(cropped_output))\n",
    "\n",
    "# tf.random_crop可以实现对张量指定大小的随机裁剪"
   ]
  },
  {
   "cell_type": "code",
   "execution_count": null,
   "metadata": {
    "collapsed": true
   },
   "outputs": [],
   "source": []
  },
  {
   "cell_type": "code",
   "execution_count": null,
   "metadata": {
    "collapsed": true
   },
   "outputs": [],
   "source": []
  }
 ],
 "metadata": {
  "kernelspec": {
   "display_name": "Python 3",
   "language": "python",
   "name": "python3"
  },
  "language_info": {
   "codemirror_mode": {
    "name": "ipython",
    "version": 3
   },
   "file_extension": ".py",
   "mimetype": "text/x-python",
   "name": "python",
   "nbconvert_exporter": "python",
   "pygments_lexer": "ipython3",
   "version": "3.6.2"
  }
 },
 "nbformat": 4,
 "nbformat_minor": 2
}
