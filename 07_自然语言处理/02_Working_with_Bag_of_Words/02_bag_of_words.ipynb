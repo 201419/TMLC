{
 "cells": [
  {
   "cell_type": "markdown",
   "metadata": {},
   "source": [
    "# Working with Bag of Words\n",
    "\n",
    "-------------------------------------\n",
    "\n",
    "**在此示例中，我们将下载并预处理 SMS Spam 文本数据。 然后，我们将使用 独热编码（one-hot-encoding）和 逻辑回归 。**\n",
    "\n",
    "**我们将使用这些独热矢量（one-hot-vectors）进行逻辑回归来预测文本是否为垃圾邮件（正常邮件标签：ham，垃圾邮件标签：spam）**\n",
    "\n",
    "**首先导入必要的库**"
   ]
  },
  {
   "cell_type": "code",
   "execution_count": 1,
   "metadata": {
    "collapsed": true
   },
   "outputs": [],
   "source": [
    "import tensorflow as tf\n",
    "import matplotlib.pyplot as plt\n",
    "import os\n",
    "import numpy as np\n",
    "import string\n",
    "from tensorflow.contrib import learn\n",
    "from tensorflow.python.framework import ops\n",
    "ops.reset_default_graph()"
   ]
  },
  {
   "cell_type": "markdown",
   "metadata": {},
   "source": [
    "**打开一个会话（session）**"
   ]
  },
  {
   "cell_type": "code",
   "execution_count": 2,
   "metadata": {
    "collapsed": true
   },
   "outputs": [],
   "source": [
    "# Start a graph session\n",
    "sess = tf.Session()"
   ]
  },
  {
   "cell_type": "markdown",
   "metadata": {},
   "source": [
    "**检查数据是否已经下载，否则下载数据（作者给出的文件已经不存在了，现在已经变成SMSSpamCollection，所以我进行了修改）**\n",
    "\n",
    "**数据集链接：http://archive.ics.uci.edu/ml/machine-learning-databases/00228/smsspamcollection.zip **"
   ]
  },
  {
   "cell_type": "code",
   "execution_count": 3,
   "metadata": {
    "collapsed": true
   },
   "outputs": [],
   "source": [
    "# 数据集文件位置：./smsspamcollection/SMSSpamCollection\n",
    "save_file_name = os.path.join('smsspamcollection','SMSSpamCollection')\n",
    "\n",
    "# Create directory if it doesn't exist\n",
    "if not os.path.exists('smsspamcollection'):\n",
    "    print('Not Found ...')\n",
    "    os.makedirs('smsspamcollection')"
   ]
  },
  {
   "cell_type": "code",
   "execution_count": 4,
   "metadata": {},
   "outputs": [
    {
     "name": "stdout",
     "output_type": "stream",
     "text": [
      "5574\n"
     ]
    }
   ],
   "source": [
    "messages = [line.rstrip() for line in open(save_file_name, 'r', encoding='UTF-8')]  # 没有encoding的话报错UnicodeDecodeError\n",
    "print(len(messages))"
   ]
  },
  {
   "cell_type": "code",
   "execution_count": 5,
   "metadata": {},
   "outputs": [
    {
     "name": "stdout",
     "output_type": "stream",
     "text": [
      "0 ham\tGo until jurong point, crazy.. Available only in bugis n great world la e buffet... Cine there got amore wat...\n",
      "1 ham\tOk lar... Joking wif u oni...\n",
      "2 spam\tFree entry in 2 a wkly comp to win FA Cup final tkts 21st May 2005. Text FA to 87121 to receive entry question(std txt rate)T&C's apply 08452810075over18's\n",
      "3 ham\tU dun say so early hor... U c already then say...\n",
      "4 ham\tNah I don't think he goes to usf, he lives around here though\n"
     ]
    }
   ],
   "source": [
    "for message_no, message in enumerate(messages[:5]):\n",
    "    print(message_no, message)"
   ]
  },
  {
   "cell_type": "markdown",
   "metadata": {},
   "source": [
    "**这是一个 TSV 文件（用制表符 tab 分隔），它的第一列是标记“正常信息”（ham）或“垃圾文件”（spam）的标签，第二列是信息本身**"
   ]
  },
  {
   "cell_type": "code",
   "execution_count": 6,
   "metadata": {},
   "outputs": [
    {
     "name": "stdout",
     "output_type": "stream",
     "text": [
      "['ham', 'ham', 'spam']\n",
      "5574\n",
      "['Go until jurong point, crazy.. Available only in bugis n great world la e buffet... Cine there got amore wat...', 'Ok lar... Joking wif u oni...', \"Free entry in 2 a wkly comp to win FA Cup final tkts 21st May 2005. Text FA to 87121 to receive entry question(std txt rate)T&C's apply 08452810075over18's\"]\n",
      "5574\n"
     ]
    }
   ],
   "source": [
    "text_label = []\n",
    "text_data = []\n",
    "for message in messages:\n",
    "    text = message.split('\\t')\n",
    "    text_label.append(text[0])\n",
    "    text_data.append(text[1])\n",
    "print(text_label[:3])\n",
    "print(len(text_label))\n",
    "print(text_data[:3])\n",
    "print(len(text_data))"
   ]
  },
  {
   "cell_type": "markdown",
   "metadata": {},
   "source": [
    "**对数据进行预处理，例如删除标点和数字等等.**"
   ]
  },
  {
   "cell_type": "code",
   "execution_count": 7,
   "metadata": {
    "collapsed": true
   },
   "outputs": [],
   "source": [
    "# Relabel 'spam' as 1, 'ham' as 0\n",
    "target = [1 if x=='spam' else 0 for x in text_label]\n",
    "\n",
    "# Normalize text\n",
    "\n",
    "# Lower case\n",
    "texts = [x.lower() for x in text_data]\n",
    "\n",
    "# Remove punctuation and numbers\n",
    "texts = [''.join(c for c in x if c not in string.punctuation) for x in texts]\n",
    "texts = [''.join(c for c in x if c not in '0123456789') for x in texts]\n",
    "\n",
    "# Trim extra whitespace\n",
    "texts = [' '.join(x.split()) for x in texts]"
   ]
  },
  {
   "cell_type": "code",
   "execution_count": 8,
   "metadata": {},
   "outputs": [
    {
     "data": {
      "text/plain": [
       "[0, 0, 1, 0, 0]"
      ]
     },
     "execution_count": 8,
     "metadata": {},
     "output_type": "execute_result"
    }
   ],
   "source": [
    "target[:5]"
   ]
  },
  {
   "cell_type": "code",
   "execution_count": 9,
   "metadata": {},
   "outputs": [
    {
     "data": {
      "text/plain": [
       "['go until jurong point crazy available only in bugis n great world la e buffet cine there got amore wat',\n",
       " 'ok lar joking wif u oni',\n",
       " 'free entry in a wkly comp to win fa cup final tkts st may text fa to to receive entry questionstd txt ratetcs apply overs',\n",
       " 'u dun say so early hor u c already then say',\n",
       " 'nah i dont think he goes to usf he lives around here though']"
      ]
     },
     "execution_count": 9,
     "metadata": {},
     "output_type": "execute_result"
    }
   ],
   "source": [
    "texts[:5]"
   ]
  },
  {
   "cell_type": "markdown",
   "metadata": {},
   "source": [
    "**To determine a good sentence length to pad/crop at, we plot a histogram of text lengths (in words).**\n",
    "\n",
    "**为了确定填充/裁剪的良好句子长度，我们绘制文本长度的直方图（以单词表示）。**"
   ]
  },
  {
   "cell_type": "code",
   "execution_count": 10,
   "metadata": {},
   "outputs": [
    {
     "data": {
      "image/png": "[encoded data removed]",
      "text/plain": [
       "<matplotlib.figure.Figure at 0x288791b4048>"
      ]
     },
     "metadata": {},
     "output_type": "display_data"
    }
   ],
   "source": [
    "%matplotlib inline\n",
    "# Plot histogram of text lengths\n",
    "text_lengths = [len(x.split()) for x in texts]\n",
    "text_lengths = [x for x in text_lengths if x < 50]\n",
    "plt.hist(text_lengths, bins=25)\n",
    "plt.title('Histogram of # of Words in Texts')\n",
    "plt.show()"
   ]
  },
  {
   "cell_type": "markdown",
   "metadata": {},
   "source": [
    "**We crop/pad all texts to be 25 words long.  We also will filter out any words that do not appear at least 3 times.**\n",
    "\n",
    "**我们将所有文本裁剪/填充为25个单词长度。我们还会过滤掉出现少于三次的单词。**"
   ]
  },
  {
   "cell_type": "code",
   "execution_count": 11,
   "metadata": {
    "collapsed": true
   },
   "outputs": [],
   "source": [
    "# Choose max text word length at 25\n",
    "sentence_size = 25\n",
    "min_word_freq = 3"
   ]
  },
  {
   "cell_type": "markdown",
   "metadata": {},
   "source": [
    "**TensorFlow 有一个文本处理函数 `VocabularyProcessor()`. 我们使用这个函数来处理文本.**\n",
    "\n",
    "**tensorflow.contrib.learn.preprocessing.VocabularyProcessor(max_document_length, min_frequency = 0, vocabulary = None, tokenizer_fn = None)**\n",
    "\n",
    "参数：\n",
    "\n",
    "max_document_length: 文档的最大长度。如果文本的长度大于最大长度，那么它会被剪切，反之则用0填充\n",
    "\n",
    "min_frequency: 词频的最小值，出现次数小于最小词频则不会被收录到词表中\n",
    "\n",
    "vocabulary: CategoricalVocabulary 对象\n",
    "\n",
    "tokenizer_fn：分词函数"
   ]
  },
  {
   "cell_type": "code",
   "execution_count": 12,
   "metadata": {
    "collapsed": true
   },
   "outputs": [],
   "source": [
    "# Setup vocabulary processor\n",
    "vocab_processor = learn.preprocessing.VocabularyProcessor(sentence_size, min_frequency=min_word_freq)\n",
    "\n",
    "# Have to fit transform to get length of unique words.\n",
    "trans = vocab_processor.transform(texts)\n",
    "transformed_texts = np.array([x for x in trans])\n",
    "embedding_size = len(np.unique(transformed_texts))"
   ]
  },
  {
   "cell_type": "code",
   "execution_count": 13,
   "metadata": {},
   "outputs": [
    {
     "name": "stdout",
     "output_type": "stream",
     "text": [
      "<tensorflow.contrib.learn.python.learn.preprocessing.text.VocabularyProcessor object at 0x0000028873707F98>\n"
     ]
    }
   ],
   "source": [
    "print(vocab_processor)"
   ]
  },
  {
   "cell_type": "code",
   "execution_count": 14,
   "metadata": {},
   "outputs": [
    {
     "name": "stdout",
     "output_type": "stream",
     "text": [
      "<generator object VocabularyProcessor.transform at 0x00000288791A93B8>\n"
     ]
    }
   ],
   "source": [
    "print(trans)"
   ]
  },
  {
   "cell_type": "code",
   "execution_count": 15,
   "metadata": {},
   "outputs": [
    {
     "name": "stdout",
     "output_type": "stream",
     "text": [
      "[[   1    2    3 ...,    0    0    0]\n",
      " [  21   22   23 ...,    0    0    0]\n",
      " [  27   28    8 ...,   44   45   46]\n",
      " ..., \n",
      " [8161  332    8 ...,    0    0    0]\n",
      " [ 141 2555  224 ...,   32  894   83]\n",
      " [3382   69 1250 ...,    0    0    0]]\n"
     ]
    }
   ],
   "source": [
    "print(transformed_texts)"
   ]
  },
  {
   "cell_type": "code",
   "execution_count": 16,
   "metadata": {},
   "outputs": [
    {
     "name": "stdout",
     "output_type": "stream",
     "text": [
      "8165\n"
     ]
    }
   ],
   "source": [
    "print(embedding_size)"
   ]
  },
  {
   "cell_type": "markdown",
   "metadata": {},
   "source": [
    "**为了测试我们的 Logistic Model （预测邮件是spam还是ham），将数据集分成训练集和测试集。**"
   ]
  },
  {
   "cell_type": "code",
   "execution_count": 17,
   "metadata": {
    "collapsed": true
   },
   "outputs": [],
   "source": [
    "# Split up data set into train/test\n",
    "train_indices = np.random.choice(len(texts), round(len(texts)*0.8), replace=False)\n",
    "test_indices = np.array(list(set(range(len(texts))) - set(train_indices)))\n",
    "texts_train = [x for ix, x in enumerate(texts) if ix in train_indices]\n",
    "texts_test = [x for ix, x in enumerate(texts) if ix in test_indices]\n",
    "target_train = [x for ix, x in enumerate(target) if ix in train_indices]\n",
    "target_test = [x for ix, x in enumerate(target) if ix in test_indices]"
   ]
  },
  {
   "cell_type": "markdown",
   "metadata": {},
   "source": [
    "**For one-hot-encoding, we setup an identity matrix for the TensorFlow embedding lookup.**\n",
    "\n",
    "**We also create the variables and placeholders for the logistic regression we will perform.**"
   ]
  },
  {
   "cell_type": "code",
   "execution_count": 18,
   "metadata": {
    "collapsed": true
   },
   "outputs": [],
   "source": [
    "# Setup Index Matrix for one-hot-encoding\n",
    "identity_mat = tf.diag(tf.ones(shape=[embedding_size]))\n",
    "\n",
    "# Create variables for logistic regression\n",
    "A = tf.Variable(tf.random_normal(shape=[embedding_size,1]))\n",
    "b = tf.Variable(tf.random_normal(shape=[1,1]))\n",
    "\n",
    "# Initialize placeholders\n",
    "x_data = tf.placeholder(shape=[sentence_size], dtype=tf.int32)\n",
    "y_target = tf.placeholder(shape=[1, 1], dtype=tf.float32)"
   ]
  },
  {
   "cell_type": "markdown",
   "metadata": {},
   "source": [
    "**Next, we create the text-word embedding lookup with the prior identity matrix.**\n",
    "\n",
    "**Our logistic regression will use the counts of the words as the input.  The counts are created by summing the embedding output across the rows.**\n",
    "\n",
    "**Then we declare the logistic regression operations. Note that we do not wrap the logistic operations in the sigmoid function because this will be done in the loss function later on.**"
   ]
  },
  {
   "cell_type": "code",
   "execution_count": 19,
   "metadata": {
    "collapsed": true
   },
   "outputs": [],
   "source": [
    "# Text-Vocab Embedding\n",
    "x_embed = tf.nn.embedding_lookup(identity_mat, x_data)\n",
    "x_col_sums = tf.reduce_sum(x_embed, 0)\n",
    "\n",
    "# Declare model operations\n",
    "x_col_sums_2D = tf.expand_dims(x_col_sums, 0)\n",
    "model_output = tf.add(tf.matmul(x_col_sums_2D, A), b)"
   ]
  },
  {
   "cell_type": "markdown",
   "metadata": {},
   "source": [
    "**Now we declare our loss function (which has the sigmoid built in), prediction operations, optimizer, and initialize the variables.**"
   ]
  },
  {
   "cell_type": "code",
   "execution_count": 20,
   "metadata": {
    "collapsed": true
   },
   "outputs": [],
   "source": [
    "# Declare loss function (Cross Entropy loss)\n",
    "loss = tf.reduce_mean(tf.nn.sigmoid_cross_entropy_with_logits(logits=model_output, labels=y_target))\n",
    "\n",
    "# Prediction operation\n",
    "prediction = tf.sigmoid(model_output)\n",
    "\n",
    "# Declare optimizer\n",
    "train_step = tf.train.GradientDescentOptimizer(0.001).minimize(loss)\n",
    "\n",
    "# Intitialize Variables\n",
    "sess.run(tf.global_variables_initializer())"
   ]
  },
  {
   "cell_type": "markdown",
   "metadata": {},
   "source": [
    "**Now we loop through the iterations and fit the logistic regression on wether or not the text is spam or ham.**"
   ]
  },
  {
   "cell_type": "code",
   "execution_count": 21,
   "metadata": {},
   "outputs": [
    {
     "name": "stdout",
     "output_type": "stream",
     "text": [
      "Starting Training Over 4459 Sentences.\n",
      "Training Observation #10: Loss = 0.0554125\n",
      "Training Observation #20: Loss = 8.05668\n",
      "Training Observation #30: Loss = 0.0183169\n",
      "Training Observation #40: Loss = 0.26806\n",
      "Training Observation #50: Loss = 4.00304\n",
      "Training Observation #60: Loss = 3.10455\n",
      "Training Observation #70: Loss = 0.108278\n",
      "Training Observation #80: Loss = 0.0962993\n",
      "Training Observation #90: Loss = 0.37935\n",
      "Training Observation #100: Loss = 0.469175\n",
      "Training Observation #110: Loss = 0.0439357\n",
      "Training Observation #120: Loss = 0.339158\n",
      "Training Observation #130: Loss = 3.2729\n",
      "Training Observation #140: Loss = 0.21681\n",
      "Training Observation #150: Loss = 0.0467615\n",
      "Training Observation #160: Loss = 1.39431\n",
      "Training Observation #170: Loss = 0.0383452\n",
      "Training Observation #180: Loss = 0.00575125\n",
      "Training Observation #190: Loss = 0.000158529\n",
      "Training Observation #200: Loss = 9.18174e-05\n",
      "Training Observation #210: Loss = 0.00486015\n",
      "Training Observation #220: Loss = 1.67512\n",
      "Training Observation #230: Loss = 1.25798\n",
      "Training Observation #240: Loss = 2.58621e-05\n",
      "Training Observation #250: Loss = 8.96752\n",
      "Training Observation #260: Loss = 2.44423e-05\n",
      "Training Observation #270: Loss = 0.939406\n",
      "Training Observation #280: Loss = 0.0437929\n",
      "Training Observation #290: Loss = 0.00218007\n",
      "Training Observation #300: Loss = 7.74294\n",
      "Training Observation #310: Loss = 0.648034\n",
      "Training Observation #320: Loss = 0.00652748\n",
      "Training Observation #330: Loss = 6.86757e-05\n",
      "Training Observation #340: Loss = 0.00163358\n",
      "Training Observation #350: Loss = 0.0211147\n",
      "Training Observation #360: Loss = 0.218397\n",
      "Training Observation #370: Loss = 0.000105914\n",
      "Training Observation #380: Loss = 0.00915596\n",
      "Training Observation #390: Loss = 0.00957272\n",
      "Training Observation #400: Loss = 0.012276\n",
      "Training Observation #410: Loss = 0.0132357\n",
      "Training Observation #420: Loss = 0.753672\n",
      "Training Observation #430: Loss = 0.000432175\n",
      "Training Observation #440: Loss = 0.0274873\n",
      "Training Observation #450: Loss = 0.00065136\n",
      "Training Observation #460: Loss = 1.00153\n",
      "Training Observation #470: Loss = 0.0977955\n",
      "Training Observation #480: Loss = 7.96195\n",
      "Training Observation #490: Loss = 0.000166889\n",
      "Training Observation #500: Loss = 0.028575\n",
      "Training Observation #510: Loss = 0.0136832\n",
      "Training Observation #520: Loss = 0.0491223\n",
      "Training Observation #530: Loss = 5.83363\n",
      "Training Observation #540: Loss = 0.113553\n",
      "Training Observation #550: Loss = 0.0990502\n",
      "Training Observation #560: Loss = 0.116281\n",
      "Training Observation #570: Loss = 8.34364e-05\n",
      "Training Observation #580: Loss = 0.0129083\n",
      "Training Observation #590: Loss = 0.0963803\n",
      "Training Observation #600: Loss = 7.98149\n",
      "Training Observation #610: Loss = 4.24971\n",
      "Training Observation #620: Loss = 0.174475\n",
      "Training Observation #630: Loss = 3.8192\n",
      "Training Observation #640: Loss = 0.0202864\n",
      "Training Observation #650: Loss = 0.169607\n",
      "Training Observation #660: Loss = 0.0083322\n",
      "Training Observation #670: Loss = 2.41869\n",
      "Training Observation #680: Loss = 0.00141782\n",
      "Training Observation #690: Loss = 0.035201\n",
      "Training Observation #700: Loss = 0.00397747\n",
      "Training Observation #710: Loss = 0.121543\n",
      "Training Observation #720: Loss = 4.04153e-05\n",
      "Training Observation #730: Loss = 0.00223326\n",
      "Training Observation #740: Loss = 0.110372\n",
      "Training Observation #750: Loss = 0.0209645\n",
      "Training Observation #760: Loss = 2.21914\n",
      "Training Observation #770: Loss = 0.0169557\n",
      "Training Observation #780: Loss = 0.0634188\n",
      "Training Observation #790: Loss = 0.0137581\n",
      "Training Observation #800: Loss = 0.00515351\n",
      "Training Observation #810: Loss = 0.0624946\n",
      "Training Observation #820: Loss = 0.131183\n",
      "Training Observation #830: Loss = 0.000916459\n",
      "Training Observation #840: Loss = 0.00408524\n",
      "Training Observation #850: Loss = 8.37857e-05\n",
      "Training Observation #860: Loss = 0.00558356\n",
      "Training Observation #870: Loss = 0.0011686\n",
      "Training Observation #880: Loss = 0.0578552\n",
      "Training Observation #890: Loss = 0.00142075\n",
      "Training Observation #900: Loss = 0.00342246\n",
      "Training Observation #910: Loss = 0.0132792\n",
      "Training Observation #920: Loss = 0.0104731\n",
      "Training Observation #930: Loss = 0.111926\n",
      "Training Observation #940: Loss = 0.0199506\n",
      "Training Observation #950: Loss = 0.0062592\n",
      "Training Observation #960: Loss = 0.129314\n",
      "Training Observation #970: Loss = 0.553885\n",
      "Training Observation #980: Loss = 3.12076\n",
      "Training Observation #990: Loss = 0.000147132\n",
      "Training Observation #1000: Loss = 0.45019\n",
      "Training Observation #1010: Loss = 0.646045\n",
      "Training Observation #1020: Loss = 0.0315103\n",
      "Training Observation #1030: Loss = 0.0999217\n",
      "Training Observation #1040: Loss = 0.00943038\n",
      "Training Observation #1050: Loss = 0.0273565\n",
      "Training Observation #1060: Loss = 0.164555\n",
      "Training Observation #1070: Loss = 0.00526572\n",
      "Training Observation #1080: Loss = 0.000311195\n",
      "Training Observation #1090: Loss = 0.229663\n",
      "Training Observation #1100: Loss = 0.85142\n",
      "Training Observation #1110: Loss = 0.0200406\n",
      "Training Observation #1120: Loss = 0.0315016\n",
      "Training Observation #1130: Loss = 3.01856\n",
      "Training Observation #1140: Loss = 0.000366668\n",
      "Training Observation #1150: Loss = 0.232805\n",
      "Training Observation #1160: Loss = 0.0522258\n",
      "Training Observation #1170: Loss = 2.84999\n",
      "Training Observation #1180: Loss = 0.0401862\n",
      "Training Observation #1190: Loss = 0.0473211\n",
      "Training Observation #1200: Loss = 0.000354616\n",
      "Training Observation #1210: Loss = 0.0617873\n",
      "Training Observation #1220: Loss = 0.019608\n",
      "Training Observation #1230: Loss = 6.57898\n",
      "Training Observation #1240: Loss = 0.000994617\n",
      "Training Observation #1250: Loss = 1.50254e-05\n",
      "Training Observation #1260: Loss = 1.0259\n",
      "Training Observation #1270: Loss = 0.00273346\n",
      "Training Observation #1280: Loss = 0.0850693\n",
      "Training Observation #1290: Loss = 6.99885e-05\n",
      "Training Observation #1300: Loss = 0.0871392\n",
      "Training Observation #1310: Loss = 0.00705679\n",
      "Training Observation #1320: Loss = 0.0169119\n",
      "Training Observation #1330: Loss = 0.370601\n",
      "Training Observation #1340: Loss = 0.00402335\n",
      "Training Observation #1350: Loss = 0.000339839\n",
      "Training Observation #1360: Loss = 0.000300045\n",
      "Training Observation #1370: Loss = 0.019859\n",
      "Training Observation #1380: Loss = 2.41382e-05\n",
      "Training Observation #1390: Loss = 5.11197e-05\n",
      "Training Observation #1400: Loss = 5.15182e-05\n",
      "Training Observation #1410: Loss = 0.58206\n",
      "Training Observation #1420: Loss = 0.00548747\n",
      "Training Observation #1430: Loss = 0.236932\n",
      "Training Observation #1440: Loss = 5.60426e-05\n",
      "Training Observation #1450: Loss = 2.98084\n",
      "Training Observation #1460: Loss = 2.36357\n",
      "Training Observation #1470: Loss = 0.00046874\n",
      "Training Observation #1480: Loss = 0.889247\n",
      "Training Observation #1490: Loss = 2.14656\n",
      "Training Observation #1500: Loss = 0.00228321\n",
      "Training Observation #1510: Loss = 0.000743358\n",
      "Training Observation #1520: Loss = 0.00466523\n",
      "Training Observation #1530: Loss = 0.00850077\n",
      "Training Observation #1540: Loss = 0.168062\n",
      "Training Observation #1550: Loss = 0.398459\n",
      "Training Observation #1560: Loss = 0.0332462\n",
      "Training Observation #1570: Loss = 0.86392\n",
      "Training Observation #1580: Loss = 0.000484947\n",
      "Training Observation #1590: Loss = 0.00156246\n",
      "Training Observation #1600: Loss = 0.00488484\n",
      "Training Observation #1610: Loss = 2.11025\n",
      "Training Observation #1620: Loss = 0.0802304\n",
      "Training Observation #1630: Loss = 0.0056086\n",
      "Training Observation #1640: Loss = 9.93962e-05\n",
      "Training Observation #1650: Loss = 0.00418659\n",
      "Training Observation #1660: Loss = 0.000476705\n",
      "Training Observation #1670: Loss = 1.13492\n",
      "Training Observation #1680: Loss = 0.000848831\n",
      "Training Observation #1690: Loss = 0.172578\n",
      "Training Observation #1700: Loss = 0.0244438\n",
      "Training Observation #1710: Loss = 0.0538393\n",
      "Training Observation #1720: Loss = 0.000285141\n",
      "Training Observation #1730: Loss = 0.00449842\n",
      "Training Observation #1740: Loss = 0.0305337\n",
      "Training Observation #1750: Loss = 0.00558715\n",
      "Training Observation #1760: Loss = 0.00387305\n",
      "Training Observation #1770: Loss = 0.00181861\n",
      "Training Observation #1780: Loss = 0.0681061\n",
      "Training Observation #1790: Loss = 0.00196442\n",
      "Training Observation #1800: Loss = 1.01529\n",
      "Training Observation #1810: Loss = 3.91492\n",
      "Training Observation #1820: Loss = 0.00296944\n",
      "Training Observation #1830: Loss = 0.000302689\n",
      "Training Observation #1840: Loss = 1.70749\n",
      "Training Observation #1850: Loss = 0.000779894\n",
      "Training Observation #1860: Loss = 0.000376073\n",
      "Training Observation #1870: Loss = 0.0029314\n",
      "Training Observation #1880: Loss = 0.00273435\n",
      "Training Observation #1890: Loss = 3.80877\n",
      "Training Observation #1900: Loss = 0.00479789\n",
      "Training Observation #1910: Loss = 0.0109965\n",
      "Training Observation #1920: Loss = 0.000692936\n",
      "Training Observation #1930: Loss = 0.0498592\n",
      "Training Observation #1940: Loss = 0.000704239\n",
      "Training Observation #1950: Loss = 0.00223878\n"
     ]
    },
    {
     "name": "stdout",
     "output_type": "stream",
     "text": [
      "Training Observation #1960: Loss = 0.00456574\n",
      "Training Observation #1970: Loss = 0.0966801\n",
      "Training Observation #1980: Loss = 3.2298\n",
      "Training Observation #1990: Loss = 0.00704119\n",
      "Training Observation #2000: Loss = 0.00139589\n",
      "Training Observation #2010: Loss = 0.000626952\n",
      "Training Observation #2020: Loss = 0.134017\n",
      "Training Observation #2030: Loss = 0.000421049\n",
      "Training Observation #2040: Loss = 0.00177466\n",
      "Training Observation #2050: Loss = 5.56001\n",
      "Training Observation #2060: Loss = 0.000680605\n",
      "Training Observation #2070: Loss = 2.50124e-05\n",
      "Training Observation #2080: Loss = 0.0234171\n",
      "Training Observation #2090: Loss = 8.05228\n",
      "Training Observation #2100: Loss = 0.00375684\n",
      "Training Observation #2110: Loss = 7.61789e-05\n",
      "Training Observation #2120: Loss = 0.0757297\n",
      "Training Observation #2130: Loss = 0.0222163\n",
      "Training Observation #2140: Loss = 6.61406e-05\n",
      "Training Observation #2150: Loss = 0.00370754\n",
      "Training Observation #2160: Loss = 0.0983844\n",
      "Training Observation #2170: Loss = 0.00194317\n",
      "Training Observation #2180: Loss = 0.0762728\n",
      "Training Observation #2190: Loss = 0.0313035\n",
      "Training Observation #2200: Loss = 0.00215511\n",
      "Training Observation #2210: Loss = 0.00831557\n",
      "Training Observation #2220: Loss = 0.0107504\n",
      "Training Observation #2230: Loss = 0.00177716\n",
      "Training Observation #2240: Loss = 0.000352467\n",
      "Training Observation #2250: Loss = 0.399048\n",
      "Training Observation #2260: Loss = 0.00333552\n",
      "Training Observation #2270: Loss = 0.000706679\n",
      "Training Observation #2280: Loss = 0.000274352\n",
      "Training Observation #2290: Loss = 0.00378623\n",
      "Training Observation #2300: Loss = 0.00261329\n",
      "Training Observation #2310: Loss = 0.00141679\n",
      "Training Observation #2320: Loss = 0.00769042\n",
      "Training Observation #2330: Loss = 1.28819e-05\n",
      "Training Observation #2340: Loss = 0.00462625\n",
      "Training Observation #2350: Loss = 0.00283813\n",
      "Training Observation #2360: Loss = 0.000230967\n",
      "Training Observation #2370: Loss = 0.000659269\n",
      "Training Observation #2380: Loss = 0.0662649\n",
      "Training Observation #2390: Loss = 0.00149587\n",
      "Training Observation #2400: Loss = 0.000505862\n",
      "Training Observation #2410: Loss = 13.2577\n",
      "Training Observation #2420: Loss = 0.0683197\n",
      "Training Observation #2430: Loss = 0.0100632\n",
      "Training Observation #2440: Loss = 0.149724\n",
      "Training Observation #2450: Loss = 0.00310117\n",
      "Training Observation #2460: Loss = 0.114182\n",
      "Training Observation #2470: Loss = 0.0782415\n",
      "Training Observation #2480: Loss = 0.00827823\n",
      "Training Observation #2490: Loss = 0.12922\n",
      "Training Observation #2500: Loss = 5.48105\n",
      "Training Observation #2510: Loss = 0.0013068\n",
      "Training Observation #2520: Loss = 0.521168\n",
      "Training Observation #2530: Loss = 0.342893\n",
      "Training Observation #2540: Loss = 0.00817697\n",
      "Training Observation #2550: Loss = 0.000399817\n",
      "Training Observation #2560: Loss = 0.00106175\n",
      "Training Observation #2570: Loss = 1.21523\n",
      "Training Observation #2580: Loss = 2.46791\n",
      "Training Observation #2590: Loss = 0.736919\n",
      "Training Observation #2600: Loss = 0.000145094\n",
      "Training Observation #2610: Loss = 0.000902883\n",
      "Training Observation #2620: Loss = 0.0055178\n",
      "Training Observation #2630: Loss = 0.0108178\n",
      "Training Observation #2640: Loss = 1.32045\n",
      "Training Observation #2650: Loss = 5.20213\n",
      "Training Observation #2660: Loss = 0.000180833\n",
      "Training Observation #2670: Loss = 0.013956\n",
      "Training Observation #2680: Loss = 0.0023373\n",
      "Training Observation #2690: Loss = 0.284123\n",
      "Training Observation #2700: Loss = 0.00574842\n",
      "Training Observation #2710: Loss = 1.65117\n",
      "Training Observation #2720: Loss = 3.2212\n",
      "Training Observation #2730: Loss = 0.000172686\n",
      "Training Observation #2740: Loss = 0.145566\n",
      "Training Observation #2750: Loss = 0.000256188\n",
      "Training Observation #2760: Loss = 0.0133885\n",
      "Training Observation #2770: Loss = 0.109063\n",
      "Training Observation #2780: Loss = 0.000133911\n",
      "Training Observation #2790: Loss = 5.2017\n",
      "Training Observation #2800: Loss = 8.46851\n",
      "Training Observation #2810: Loss = 0.000470763\n",
      "Training Observation #2820: Loss = 2.40723e-05\n",
      "Training Observation #2830: Loss = 0.00162183\n",
      "Training Observation #2840: Loss = 0.000709248\n",
      "Training Observation #2850: Loss = 0.00205562\n",
      "Training Observation #2860: Loss = 0.0061359\n",
      "Training Observation #2870: Loss = 0.007904\n",
      "Training Observation #2880: Loss = 0.00254679\n",
      "Training Observation #2890: Loss = 0.0214929\n",
      "Training Observation #2900: Loss = 0.067164\n",
      "Training Observation #2910: Loss = 0.00022196\n",
      "Training Observation #2920: Loss = 0.514576\n",
      "Training Observation #2930: Loss = 0.000726028\n",
      "Training Observation #2940: Loss = 0.0775136\n",
      "Training Observation #2950: Loss = 0.000764742\n",
      "Training Observation #2960: Loss = 0.00618711\n",
      "Training Observation #2970: Loss = 0.00254962\n",
      "Training Observation #2980: Loss = 0.0018686\n",
      "Training Observation #2990: Loss = 3.74723\n",
      "Training Observation #3000: Loss = 0.00138804\n",
      "Training Observation #3010: Loss = 0.0219704\n",
      "Training Observation #3020: Loss = 0.00124966\n",
      "Training Observation #3030: Loss = 5.5686\n",
      "Training Observation #3040: Loss = 3.27684\n",
      "Training Observation #3050: Loss = 0.22871\n",
      "Training Observation #3060: Loss = 0.114625\n",
      "Training Observation #3070: Loss = 0.000115314\n",
      "Training Observation #3080: Loss = 0.00016438\n",
      "Training Observation #3090: Loss = 1.33335\n",
      "Training Observation #3100: Loss = 6.86998e-05\n",
      "Training Observation #3110: Loss = 0.026454\n",
      "Training Observation #3120: Loss = 5.18896\n",
      "Training Observation #3130: Loss = 0.0191324\n",
      "Training Observation #3140: Loss = 2.45992\n",
      "Training Observation #3150: Loss = 0.125417\n",
      "Training Observation #3160: Loss = 0.00247296\n",
      "Training Observation #3170: Loss = 4.72864e-06\n",
      "Training Observation #3180: Loss = 0.0736599\n",
      "Training Observation #3190: Loss = 0.100037\n",
      "Training Observation #3200: Loss = 0.00763895\n",
      "Training Observation #3210: Loss = 2.86473\n",
      "Training Observation #3220: Loss = 0.0150359\n",
      "Training Observation #3230: Loss = 0.013015\n",
      "Training Observation #3240: Loss = 0.248964\n",
      "Training Observation #3250: Loss = 0.0014758\n",
      "Training Observation #3260: Loss = 0.000283315\n",
      "Training Observation #3270: Loss = 0.0215165\n",
      "Training Observation #3280: Loss = 3.78378\n",
      "Training Observation #3290: Loss = 0.0602881\n",
      "Training Observation #3300: Loss = 0.00112295\n",
      "Training Observation #3310: Loss = 0.00151147\n",
      "Training Observation #3320: Loss = 3.95757\n",
      "Training Observation #3330: Loss = 0.000220211\n",
      "Training Observation #3340: Loss = 6.25769\n",
      "Training Observation #3350: Loss = 0.011247\n",
      "Training Observation #3360: Loss = 7.11429e-05\n",
      "Training Observation #3370: Loss = 0.00540771\n",
      "Training Observation #3380: Loss = 0.0037667\n",
      "Training Observation #3390: Loss = 0.00362309\n",
      "Training Observation #3400: Loss = 9.39061e-06\n",
      "Training Observation #3410: Loss = 0.00047758\n",
      "Training Observation #3420: Loss = 0.0736549\n",
      "Training Observation #3430: Loss = 0.175065\n",
      "Training Observation #3440: Loss = 0.000637519\n",
      "Training Observation #3450: Loss = 0.000654312\n",
      "Training Observation #3460: Loss = 0.00100462\n",
      "Training Observation #3470: Loss = 0.00252031\n",
      "Training Observation #3480: Loss = 0.000434103\n",
      "Training Observation #3490: Loss = 0.000485539\n",
      "Training Observation #3500: Loss = 2.67945e-05\n",
      "Training Observation #3510: Loss = 5.79625\n",
      "Training Observation #3520: Loss = 0.000231258\n",
      "Training Observation #3530: Loss = 0.0963266\n",
      "Training Observation #3540: Loss = 0.000876526\n",
      "Training Observation #3550: Loss = 0.0189324\n",
      "Training Observation #3560: Loss = 0.000185787\n",
      "Training Observation #3570: Loss = 0.0235251\n",
      "Training Observation #3580: Loss = 0.0261896\n",
      "Training Observation #3590: Loss = 8.14001e-06\n",
      "Training Observation #3600: Loss = 0.0410238\n",
      "Training Observation #3610: Loss = 0.248675\n",
      "Training Observation #3620: Loss = 0.776187\n",
      "Training Observation #3630: Loss = 0.00484389\n",
      "Training Observation #3640: Loss = 0.158592\n",
      "Training Observation #3650: Loss = 0.636528\n",
      "Training Observation #3660: Loss = 0.000902516\n",
      "Training Observation #3670: Loss = 0.109428\n",
      "Training Observation #3680: Loss = 0.000253745\n",
      "Training Observation #3690: Loss = 0.00222018\n",
      "Training Observation #3700: Loss = 0.00356816\n",
      "Training Observation #3710: Loss = 0.00155236\n",
      "Training Observation #3720: Loss = 1.13628e-05\n",
      "Training Observation #3730: Loss = 0.136686\n",
      "Training Observation #3740: Loss = 0.0171761\n",
      "Training Observation #3750: Loss = 0.00126618\n",
      "Training Observation #3760: Loss = 6.63792e-05\n",
      "Training Observation #3770: Loss = 2.0885\n",
      "Training Observation #3780: Loss = 0.000220367\n",
      "Training Observation #3790: Loss = 0.10265\n",
      "Training Observation #3800: Loss = 0.0109049\n",
      "Training Observation #3810: Loss = 4.15981\n",
      "Training Observation #3820: Loss = 0.0363126\n",
      "Training Observation #3830: Loss = 0.000217195\n",
      "Training Observation #3840: Loss = 1.04578\n",
      "Training Observation #3850: Loss = 0.00403554\n",
      "Training Observation #3860: Loss = 1.04915\n"
     ]
    },
    {
     "name": "stdout",
     "output_type": "stream",
     "text": [
      "Training Observation #3870: Loss = 0.0162772\n",
      "Training Observation #3880: Loss = 0.12118\n",
      "Training Observation #3890: Loss = 0.00357007\n",
      "Training Observation #3900: Loss = 0.000945435\n",
      "Training Observation #3910: Loss = 0.000169133\n",
      "Training Observation #3920: Loss = 0.109346\n",
      "Training Observation #3930: Loss = 0.0177977\n",
      "Training Observation #3940: Loss = 2.75338e-05\n",
      "Training Observation #3950: Loss = 3.42797e-05\n",
      "Training Observation #3960: Loss = 0.00020922\n",
      "Training Observation #3970: Loss = 0.0157473\n",
      "Training Observation #3980: Loss = 3.27938\n",
      "Training Observation #3990: Loss = 0.000290787\n",
      "Training Observation #4000: Loss = 0.000202368\n",
      "Training Observation #4010: Loss = 0.00655289\n",
      "Training Observation #4020: Loss = 3.70055\n",
      "Training Observation #4030: Loss = 0.0152539\n",
      "Training Observation #4040: Loss = 0.000457979\n",
      "Training Observation #4050: Loss = 0.00304603\n",
      "Training Observation #4060: Loss = 0.000583809\n",
      "Training Observation #4070: Loss = 0.00998161\n",
      "Training Observation #4080: Loss = 0.000655216\n",
      "Training Observation #4090: Loss = 4.88401\n",
      "Training Observation #4100: Loss = 0.000777877\n",
      "Training Observation #4110: Loss = 0.0021084\n",
      "Training Observation #4120: Loss = 1.89074\n",
      "Training Observation #4130: Loss = 0.00772465\n",
      "Training Observation #4140: Loss = 0.000856119\n",
      "Training Observation #4150: Loss = 0.00224662\n",
      "Training Observation #4160: Loss = 0.00104855\n",
      "Training Observation #4170: Loss = 6.19368\n",
      "Training Observation #4180: Loss = 1.64915\n",
      "Training Observation #4190: Loss = 1.16766\n",
      "Training Observation #4200: Loss = 0.0193811\n",
      "Training Observation #4210: Loss = 0.537943\n",
      "Training Observation #4220: Loss = 0.00201919\n",
      "Training Observation #4230: Loss = 1.01594e-05\n",
      "Training Observation #4240: Loss = 1.50938e-05\n",
      "Training Observation #4250: Loss = 0.000265305\n",
      "Training Observation #4260: Loss = 0.0034291\n",
      "Training Observation #4270: Loss = 0.00189679\n",
      "Training Observation #4280: Loss = 0.000112182\n",
      "Training Observation #4290: Loss = 0.0361652\n",
      "Training Observation #4300: Loss = 1.65273\n",
      "Training Observation #4310: Loss = 0.0134171\n",
      "Training Observation #4320: Loss = 0.00152636\n",
      "Training Observation #4330: Loss = 0.000469055\n",
      "Training Observation #4340: Loss = 0.0473129\n",
      "Training Observation #4350: Loss = 0.0950761\n",
      "Training Observation #4360: Loss = 0.000781797\n",
      "Training Observation #4370: Loss = 5.71211\n",
      "Training Observation #4380: Loss = 0.00262726\n",
      "Training Observation #4390: Loss = 0.00560893\n",
      "Training Observation #4400: Loss = 0.000693763\n",
      "Training Observation #4410: Loss = 0.000107642\n",
      "Training Observation #4420: Loss = 5.46867\n",
      "Training Observation #4430: Loss = 0.00129601\n",
      "Training Observation #4440: Loss = 0.0126473\n",
      "Training Observation #4450: Loss = 0.00311209\n"
     ]
    }
   ],
   "source": [
    "# Start Logistic Regression\n",
    "print('Starting Training Over {} Sentences.'.format(len(texts_train)))\n",
    "loss_vec = []\n",
    "train_acc_all = []\n",
    "train_acc_avg = []\n",
    "\n",
    "for ix, t in enumerate(vocab_processor.fit_transform(texts_train)):\n",
    "    y_data = [[target_train[ix]]]\n",
    "    \n",
    "    sess.run(train_step, feed_dict={x_data: t, y_target: y_data})\n",
    "    temp_loss = sess.run(loss, feed_dict={x_data: t, y_target: y_data})\n",
    "    loss_vec.append(temp_loss)\n",
    "    \n",
    "    if (ix+1)%10 == 0:  # 每隔10输出一次loss值\n",
    "        print('Training Observation #' + str(ix+1) + ': Loss = ' + str(temp_loss))\n",
    "        \n",
    "    # Keep trailing average of past 50 observations accuracy\n",
    "    \n",
    "    # Get prediction of single observation\n",
    "    [[temp_pred]] = sess.run(prediction, feed_dict={x_data:t, y_target:y_data})\n",
    "    \n",
    "    # Get True/False if prediction is accurate\n",
    "    train_acc_temp = target_train[ix]==np.round(temp_pred)\n",
    "    train_acc_all.append(train_acc_temp)\n",
    "    if len(train_acc_all) >= 50:\n",
    "        train_acc_avg.append(np.mean(train_acc_all[-50:]))"
   ]
  },
  {
   "cell_type": "markdown",
   "metadata": {},
   "source": [
    "**训练好 logistic 模型以后，就可以在测试集上运行模型得到准确率。**"
   ]
  },
  {
   "cell_type": "code",
   "execution_count": 22,
   "metadata": {},
   "outputs": [
    {
     "name": "stdout",
     "output_type": "stream",
     "text": [
      "Getting Test Set Accuracy For 1115 Sentences.\n",
      "Test Observation #50\n",
      "Test Observation #100\n",
      "Test Observation #150\n",
      "Test Observation #200\n",
      "Test Observation #250\n",
      "Test Observation #300\n",
      "Test Observation #350\n",
      "Test Observation #400\n",
      "Test Observation #450\n",
      "Test Observation #500\n",
      "Test Observation #550\n",
      "Test Observation #600\n",
      "Test Observation #650\n",
      "Test Observation #700\n",
      "Test Observation #750\n",
      "Test Observation #800\n",
      "Test Observation #850\n",
      "Test Observation #900\n",
      "Test Observation #950\n",
      "Test Observation #1000\n",
      "Test Observation #1050\n",
      "Test Observation #1100\n",
      "\n",
      "Overall Test Accuracy: 0.7964125560538117\n"
     ]
    }
   ],
   "source": [
    "# Get test set accuracy\n",
    "print('Getting Test Set Accuracy For {} Sentences.'.format(len(texts_test)))\n",
    "test_acc_all = []\n",
    "\n",
    "for ix, t in enumerate(vocab_processor.fit_transform(texts_test)):\n",
    "    y_data = [[target_test[ix]]]\n",
    "    \n",
    "    if (ix+1)%50 == 0:  # 每隔50输出一次\n",
    "        print('Test Observation #' + str(ix+1))\n",
    "    \n",
    "    # Get prediction of single observation\n",
    "    [[temp_pred]] = sess.run(prediction, feed_dict={x_data:t, y_target:y_data})\n",
    "    \n",
    "    # Get True/False if prediction is accurate\n",
    "    test_acc_temp = target_test[ix]==np.round(temp_pred)\n",
    "    test_acc_all.append(test_acc_temp)\n",
    "\n",
    "print('\\nOverall Test Accuracy: {}'.format(np.mean(test_acc_all)))"
   ]
  },
  {
   "cell_type": "markdown",
   "metadata": {},
   "source": [
    "**Let's look at the training accuracy over all the iterations.**"
   ]
  },
  {
   "cell_type": "code",
   "execution_count": 23,
   "metadata": {},
   "outputs": [
    {
     "data": {
      "image/png": "[encoded data removed]",
      "text/plain": [
       "<matplotlib.figure.Figure at 0x28879bb2c88>"
      ]
     },
     "metadata": {},
     "output_type": "display_data"
    }
   ],
   "source": [
    "%matplotlib inline\n",
    "# Plot training accuracy over time\n",
    "plt.plot(range(len(train_acc_avg)), train_acc_avg, 'k-', label='Train Accuracy')\n",
    "plt.title('Avg Training Acc Over Past 50 Iterations')\n",
    "plt.xlabel('Iterations')\n",
    "plt.ylabel('Training Accuracy')\n",
    "plt.show()"
   ]
  },
  {
   "cell_type": "markdown",
   "metadata": {},
   "source": [
    "**限制句子（或文本）大小的原因值得在这里解释一下。在此示例中，我们将文本大小限制为25个单词。这是 \"bag of words\" 的常见做法，因为它限制了文本长度对预测的影响。你可以想象，如果我们找到一个单词，例如“会议 (meeting) ”，这可以预测文本是ham（而不是spam），那么垃圾邮件很可能会通过在邮件中多次输入该单词来避开垃圾邮件的检测。实际上，这是目标数据不平衡 (imbalanced target data) 的常见问题。在这种情况下很可能会出现不平衡的数据，因为垃圾邮件 (spam) 可能很难找到，而正常的邮件 (ham) 可能很容易找到。由于这个事实，我们创建的词表可能会严重偏向我们数据的ham部分所代表的单词（更多的 ham 意味着更多的单词在ham中表示而不是 spam ）。如果我们允许长度不限的文本，那么垃圾邮件制造者可能会利用这一点并创建非常长的文本，这些文本在我们的模型中触发正常邮件 word factors 的概率更高。**"
   ]
  }
 ],
 "metadata": {
  "kernelspec": {
   "display_name": "Python 3",
   "language": "python",
   "name": "python3"
  },
  "language_info": {
   "codemirror_mode": {
    "name": "ipython",
    "version": 3
   },
   "file_extension": ".py",
   "mimetype": "text/x-python",
   "name": "python",
   "nbconvert_exporter": "python",
   "pygments_lexer": "ipython3",
   "version": "3.6.2"
  }
 },
 "nbformat": 4,
 "nbformat_minor": 2
}
